{
 "cells": [
  {
   "cell_type": "markdown",
   "metadata": {},
   "source": [
    "## Window-sentence retrieval RAG\n",
    "1. Forcus on Individual sentences \n",
    "2. Search the query embedding with most relevant sentence in the pdf \n",
    "3. Perform top k similarity with the sentence and retrive the relevant sentence with surrounding sentences as context."
   ]
  },
  {
   "cell_type": "markdown",
   "metadata": {},
   "source": [
    "### Import relevant libraries from llama-Index"
   ]
  },
  {
   "cell_type": "code",
   "execution_count": null,
   "metadata": {},
   "outputs": [],
   "source": [
    "# basic modules\n",
    "import os\n",
    "import re\n",
    "from pprint import pprint\n",
    "\n",
    "# llama index for rag system\n",
    "from llama_index.core import SimpleDirectoryReader\n",
    "from llama_index.core import VectorStoreIndex\n",
    "from llama_index.core.node_parser import SentenceWindowNodeParser\n",
    "from llama_index.core.node_parser import SentenceSplitter\n",
    "from llama_index.core import load_index_from_storage\n",
    "from llama_index.core import Document\n",
    "from llama_index.core import Settings\n",
    "\n",
    "# ollama model with llama index\n",
    "from llama_index.llms.ollama import Ollama\n",
    "from llama_index.embeddings.ollama import OllamaEmbedding\n",
    "from llama_index.core.postprocessor import MetadataReplacementPostProcessor\n",
    "\n",
    "# evaluation metrics\n",
    "from deepeval import evaluate\n",
    "from deepeval.metrics import AnswerRelevancyMetric\n",
    "from deepeval.test_case import LLMTestCase"
   ]
  },
  {
   "cell_type": "code",
   "execution_count": 45,
   "metadata": {},
   "outputs": [
    {
     "name": "stdout",
     "output_type": "stream",
     "text": [
      "18 \n",
      "\n",
      "<class 'llama_index.core.schema.Document'>\n"
     ]
    }
   ],
   "source": [
    "documents = SimpleDirectoryReader(\n",
    "    input_files=[\"./data/About us.pdf\", \n",
    "                 \"./data/contact us.pdf\",\n",
    "                 \"./data/delivery.pdf\",\n",
    "                 \"./data/payment options.pdf\",\n",
    "                 \"./data/returns.pdf\",\n",
    "                 \"./data/services.pdf\",\n",
    "                 \"./data/testings.pdf\",\n",
    "                 \"./data/tracking.pdf\",\n",
    "                 \"./data/warranty.pdf\",\n",
    "                 \"./data/whatsapp order.pdf\"]\n",
    ").load_data()\n",
    "\n",
    "print(len(documents), \"\\n\")\n",
    "print(type(documents[0]))\n"
   ]
  },
  {
   "cell_type": "code",
   "execution_count": 46,
   "metadata": {},
   "outputs": [
    {
     "name": "stdout",
     "output_type": "stream",
     "text": [
      "('About Us  \\n'\n",
      " 'TRONIC.LK is an electronic component and module sourcing company under Sigma '\n",
      " 'Electronics ')\n",
      "('Contact us \\n'\n",
      " 'Electronic Shop - Kohuwala, Nugegoda  \\n'\n",
      " 'TRONIC.LK  \\n'\n",
      " '8, 1/1, Sunethradevi Road,  \\n'\n",
      " 'Kohuwala')\n",
      "(\"If the item(s) (components or modules) you need isn't listed, we can try to \"\n",
      " 'supply that for you. \\n'\n",
      " 'Yo')\n",
      "('Delivery \\n'\n",
      " 'DELIVERY VIA COURIER SERVICE  \\n'\n",
      " ' \\n'\n",
      " 'We deliver items island-wide via a courier service. The c')\n",
      "('If you have any question regarding delivery via courier service, please '\n",
      " 'contact us via \\n'\n",
      " 'info@tronic.')\n",
      "('Payment Options \\n'\n",
      " 'Here are the payment options we offer. \\n'\n",
      " 'We prefer bank transfers to all other optio')\n",
      "('Returns \\n'\n",
      " 'We reserve the right to accept or reject return or exchange requests other '\n",
      " 'than Warranty \\n'\n",
      " 'C')\n",
      "('Services \\n'\n",
      " 'As most of you know, TRONIC.LK is running by set of engineers who have years '\n",
      " 'of experience')\n",
      "('If you need to mould your enclosure or any other part using plastic '\n",
      " 'injection moulding, we can \\n'\n",
      " 'do t')\n",
      "('NOTE: There are several undergrads, inexperienced grads and technicians whom '\n",
      " 'we know \\n'\n",
      " 'mostly via TRO')\n",
      "('Testing \\n'\n",
      " 'As technology enthusiasts ourselves, we would always like to test the '\n",
      " 'modules and sensors w')\n",
      "('Tracking \\n'\n",
      " 'To track your parcel, please visit the tracking page of Prompt Xpress '\n",
      " 'courier service belo')\n",
      "('Warranty \\n'\n",
      " 'We provide warranty for some of the products we sell as below  only against '\n",
      " 'manufacturing ')\n",
      "('Registered Post or a courier service. In that case, you need to properly '\n",
      " 'pack the module, include \\n'\n",
      " 'a')\n",
      "('TRONIC.LK will send you a video as a proof and you have to pay for the time '\n",
      " 'involved in testing. \\n'\n",
      " 'Cu')\n",
      "('Inappropriate installation or commissioning \\n'\n",
      " 'Negligence or inappropriate use of the product \\n'\n",
      " 'Externa')\n",
      "('After charging, make sure to remove the probes of the charger from batteries '\n",
      " 'before connecting \\n'\n",
      " 'batt')\n",
      "('WhatsApp Order \\n'\n",
      " 'If you only have less than 5 items to buy and you find it difficult or time '\n",
      " 'consumin')\n"
     ]
    }
   ],
   "source": [
    "# initial examine the text in the documents\n",
    "for doc in documents:\n",
    "    pprint(doc.text[:100])"
   ]
  },
  {
   "cell_type": "code",
   "execution_count": 47,
   "metadata": {},
   "outputs": [],
   "source": [
    "# there are \\n in the document so clean the text of the documents\n",
    "def clean_text_fn(text):\n",
    "    cleaned_text = re.sub(r'\\s+', ' ', text)\n",
    "    return cleaned_text\n",
    "\n",
    "# save cleaned text of each document in an array\n",
    "clean_texts = [clean_text_fn(document.text) for document in documents]"
   ]
  },
  {
   "cell_type": "code",
   "execution_count": 48,
   "metadata": {},
   "outputs": [
    {
     "name": "stdout",
     "output_type": "stream",
     "text": [
      "{'page_label': '1', 'file_name': 'About us.pdf', 'file_path': 'data\\\\About us.pdf', 'file_type': 'application/pdf', 'file_size': 88750, 'creation_date': '2025-02-28', 'last_modified_date': '2025-02-28'}\n",
      "{'page_label': '1', 'file_name': 'contact us.pdf', 'file_path': 'data\\\\contact us.pdf', 'file_type': 'application/pdf', 'file_size': 104443, 'creation_date': '2025-02-28', 'last_modified_date': '2025-02-28'}\n",
      "{'page_label': '2', 'file_name': 'contact us.pdf', 'file_path': 'data\\\\contact us.pdf', 'file_type': 'application/pdf', 'file_size': 104443, 'creation_date': '2025-02-28', 'last_modified_date': '2025-02-28'}\n",
      "{'page_label': '1', 'file_name': 'delivery.pdf', 'file_path': 'data\\\\delivery.pdf', 'file_type': 'application/pdf', 'file_size': 103930, 'creation_date': '2025-02-28', 'last_modified_date': '2025-02-28'}\n",
      "{'page_label': '2', 'file_name': 'delivery.pdf', 'file_path': 'data\\\\delivery.pdf', 'file_type': 'application/pdf', 'file_size': 103930, 'creation_date': '2025-02-28', 'last_modified_date': '2025-02-28'}\n",
      "{'page_label': '1', 'file_name': 'payment options.pdf', 'file_path': 'data\\\\payment options.pdf', 'file_type': 'application/pdf', 'file_size': 116119, 'creation_date': '2025-02-28', 'last_modified_date': '2025-03-05'}\n",
      "{'page_label': '1', 'file_name': 'returns.pdf', 'file_path': 'data\\\\returns.pdf', 'file_type': 'application/pdf', 'file_size': 78999, 'creation_date': '2025-02-28', 'last_modified_date': '2025-02-28'}\n",
      "{'page_label': '1', 'file_name': 'services.pdf', 'file_path': 'data\\\\services.pdf', 'file_type': 'application/pdf', 'file_size': 94889, 'creation_date': '2025-02-28', 'last_modified_date': '2025-02-28'}\n",
      "{'page_label': '2', 'file_name': 'services.pdf', 'file_path': 'data\\\\services.pdf', 'file_type': 'application/pdf', 'file_size': 94889, 'creation_date': '2025-02-28', 'last_modified_date': '2025-02-28'}\n",
      "{'page_label': '3', 'file_name': 'services.pdf', 'file_path': 'data\\\\services.pdf', 'file_type': 'application/pdf', 'file_size': 94889, 'creation_date': '2025-02-28', 'last_modified_date': '2025-02-28'}\n",
      "{'page_label': '1', 'file_name': 'testings.pdf', 'file_path': 'data\\\\testings.pdf', 'file_type': 'application/pdf', 'file_size': 79127, 'creation_date': '2025-02-28', 'last_modified_date': '2025-02-28'}\n",
      "{'page_label': '1', 'file_name': 'tracking.pdf', 'file_path': 'data\\\\tracking.pdf', 'file_type': 'application/pdf', 'file_size': 51405, 'creation_date': '2025-02-28', 'last_modified_date': '2025-02-28'}\n",
      "{'page_label': '1', 'file_name': 'warranty.pdf', 'file_path': 'data\\\\warranty.pdf', 'file_type': 'application/pdf', 'file_size': 90815, 'creation_date': '2025-02-28', 'last_modified_date': '2025-03-05'}\n",
      "{'page_label': '2', 'file_name': 'warranty.pdf', 'file_path': 'data\\\\warranty.pdf', 'file_type': 'application/pdf', 'file_size': 90815, 'creation_date': '2025-02-28', 'last_modified_date': '2025-03-05'}\n",
      "{'page_label': '3', 'file_name': 'warranty.pdf', 'file_path': 'data\\\\warranty.pdf', 'file_type': 'application/pdf', 'file_size': 90815, 'creation_date': '2025-02-28', 'last_modified_date': '2025-03-05'}\n",
      "{'page_label': '4', 'file_name': 'warranty.pdf', 'file_path': 'data\\\\warranty.pdf', 'file_type': 'application/pdf', 'file_size': 90815, 'creation_date': '2025-02-28', 'last_modified_date': '2025-03-05'}\n",
      "{'page_label': '5', 'file_name': 'warranty.pdf', 'file_path': 'data\\\\warranty.pdf', 'file_type': 'application/pdf', 'file_size': 90815, 'creation_date': '2025-02-28', 'last_modified_date': '2025-03-05'}\n",
      "{'page_label': '1', 'file_name': 'whatsapp order.pdf', 'file_path': 'data\\\\whatsapp order.pdf', 'file_type': 'application/pdf', 'file_size': 90193, 'creation_date': '2025-02-28', 'last_modified_date': '2025-02-28'}\n",
      "About Us TRONIC.LK is an electronic component and module sourcing company under Sigma Electronics (Pvt) Ltd. We supply high quality electronic components, modules and tools manufactured in China, Taiwan, Hong Kong, Japan, USA, Italy, England, Germany and Australia. Being electronic hobbyists, we strive to provide high-quality modules and components at a reasonable price. We currently supply Arduinos, Raspberry Pis, Orange Pis, Micro:bits, NodeMCUs, Atmel & Microchip microcontrollers, ICs & other passive components, Creality 3D Printers & filaments, Pneumatic parts, CNC accessories, Inverters, Battery chargers, Multimeters, Ronix Tools, etc... We were the first to introduce Arduino development boards and modules to Sri Lanka way back in 2011 under the company named Lankatronics (Pvt) Ltd., which later evolved into TRONIC.LK. Today, TRONIC.LK is one of the leading electronic stores in Sri Lanka. In our clientele, we have all the leading universities, technology institutes, R&D companies,\n"
     ]
    }
   ],
   "source": [
    "# load data function has divided the document in to pages and made document objects from them\n",
    "# including texts\n",
    "for doc in documents:\n",
    "    print(doc.metadata)\n",
    "\n",
    "# concatenate data to one document and separate each pdf with \\n\\n\n",
    "document = Document(text=\"\\n\\n\".join([txt for txt in clean_texts]))\n",
    "print(document.text[:1000])"
   ]
  },
  {
   "cell_type": "code",
   "execution_count": 49,
   "metadata": {},
   "outputs": [],
   "source": [
    "# node parser get the sentences from the document and create node based on sentences and include the surrounding context\n",
    "node_parser = SentenceWindowNodeParser.from_defaults(\n",
    "    # how many sentences on either side to capture\n",
    "    window_size=3,\n",
    "    # the metadata key that holds the window of surrounding sentences\n",
    "    window_metadata_key=\"window\",\n",
    "    # the metadata key that holds the original sentence\n",
    "    original_text_metadata_key=\"original_sentence\",\n",
    ")"
   ]
  },
  {
   "cell_type": "code",
   "execution_count": 50,
   "metadata": {},
   "outputs": [],
   "source": [
    "llm = Ollama(model=\"deepseek-r1:1.5b\", temperature=0.1,request_timeout=120)\n",
    "\n",
    "response = llm.complete(\"Who is Laurie Voss? write in 10 words\")"
   ]
  },
  {
   "cell_type": "code",
   "execution_count": 31,
   "metadata": {},
   "outputs": [
    {
     "name": "stdout",
     "output_type": "stream",
     "text": [
      "<think>\n",
      "Okay, so I need to figure out who Laurie Voss is and how to answer the question in 10 words. Let me start by recalling what I know about her.\n",
      "\n",
      "I think she's a politician. Maybe from the U.S.? I remember hearing something about her being involved in the 2008 election. Oh, right! She was a candidate for the U.S. House of Representatives. That makes sense because that's where she would run for office.\n",
      "\n",
      "Wait, when did she get into politics? I think she ran against another candidate named Jim Cramer. They were both running for the same position, which is interesting. So Laurie Voss and Jim Cramer were two House members who were fighting it out in a race to fill a specific seat.\n",
      "\n",
      "I should make sure about her name and the year of her election. I believe she was running against Cramer from 2008 until 2012, which is when she became U.S. Representative for New Mexico. That seems right because New Mexico has a significant population in the U.S., so it's plausible that someone would run for that state.\n",
      "\n",
      "I'm not sure about her exact political stance or any other notable achievements. I know she was involved in politics before, but I don't recall much more beyond her election. So maybe the key points are her name, her role as a House member, and the year of her election.\n",
      "\n",
      "Putting it all together, Laurie Voss is a U.S. Representative who ran against Jim Cramer for the U.S. House of Representatives from 2008 to 2012. That should cover the main points in 10 words.\n",
      "</think>\n",
      "\n",
      "Laurie Voss was a U.S. Representative running against Jim Cramer for the U.S. House of Representatives from 2008 to 2012.\n"
     ]
    }
   ],
   "source": [
    "print(response)"
   ]
  },
  {
   "cell_type": "markdown",
   "metadata": {},
   "source": [
    "### Setup embedding model from the llama-Index\n",
    "\n",
    "1. we can set up services globally by Settings\n",
    "\n",
    "- Settings.llm = OpenAI(model=\"gpt-3.5-turbo\")\n",
    "- Settings.embed_model = OpenAIEmbedding(model=\"text-embedding-3-small\")\n",
    "- Settings.node_parser = SentenceSplitter(chunk_size=512, chunk_overlap=20)\n",
    "- Settings.num_output = 512\n",
    "- Settings.context_window = 3900\n",
    "\n",
    "2. we can set up locally \n",
    "\n",
    "- "
   ]
  },
  {
   "cell_type": "code",
   "execution_count": 51,
   "metadata": {},
   "outputs": [],
   "source": [
    "# make service context to rag application \n",
    "# nomic-embed-text:latest as embedding model to the service context\n",
    "ollama_embedding = OllamaEmbedding(\n",
    "    model_name=\"nomic-embed-text:latest\",\n",
    "    base_url=\"http://localhost:11434\",\n",
    "    ollama_additional_kwargs={\"mirostat\": 0},\n",
    ")\n",
    "\n",
    "# a vector store index only needs an embed model\n",
    "# base node parser is a sentence splitter\n",
    "text_splitter = SentenceSplitter()\n"
   ]
  },
  {
   "cell_type": "markdown",
   "metadata": {},
   "source": [
    "### Extract Nodes\n",
    "\n",
    "you can extract the nodes using node parser this gives the nodes that are with context and the base sentence.\n",
    "\n",
    "you can extract the base sentence by the normal parser sentencesplitter()."
   ]
  },
  {
   "cell_type": "code",
   "execution_count": 52,
   "metadata": {},
   "outputs": [
    {
     "name": "stdout",
     "output_type": "stream",
     "text": [
      "7\n",
      "201\n",
      "{'window': 'About Us TRONIC.LK is an electronic component and module sourcing company under Sigma Electronics (Pvt) Ltd.  We supply high quality electronic components, modules and tools manufactured in China, Taiwan, Hong Kong, Japan, USA, Italy, England, Germany and Australia.  Being electronic hobbyists, we strive to provide high-quality modules and components at a reasonable price.  We currently supply Arduinos, Raspberry Pis, Orange Pis, Micro:bits, NodeMCUs, Atmel & Microchip microcontrollers, ICs & other passive components, Creality 3D Printers & filaments, Pneumatic parts, CNC accessories, Inverters, Battery chargers, Multimeters, Ronix Tools, etc... We were the first to introduce Arduino development boards and modules to Sri Lanka way back in 2011 under the company named Lankatronics (Pvt) Ltd., which later evolved into TRONIC.LK.  Today, TRONIC.LK is one of the leading electronic stores in Sri Lanka. ', 'original_sentence': 'We supply high quality electronic components, modules and tools manufactured in China, Taiwan, Hong Kong, Japan, USA, Italy, England, Germany and Australia. '}\n"
     ]
    }
   ],
   "source": [
    "# extract nodes and the sentences context using node parser \n",
    "nodes = node_parser.get_nodes_from_documents([document])\n",
    "# extract sentences using sentenceSplitter()\n",
    "base_nodes = text_splitter.get_nodes_from_documents([document])\n",
    "print(len(base_nodes))\n",
    "print(len(nodes))\n",
    "print(nodes[1].metadata)"
   ]
  },
  {
   "cell_type": "markdown",
   "metadata": {},
   "source": [
    "above mentioned way splitting the sentences are not well fit to the given scenario. Try of the regular expression custom splitting."
   ]
  },
  {
   "cell_type": "code",
   "execution_count": 53,
   "metadata": {},
   "outputs": [
    {
     "name": "stdout",
     "output_type": "stream",
     "text": [
      "['About Us TRONIC.LK is an electronic component and module sourcing company under Sigma Electronics (Pvt) Ltd.', 'We supply high quality electronic components, modules and tools manufactured in China, Taiwan, Hong Kong, Japan, USA, Italy, England, Germany and Australia.', 'Being electronic hobbyists, we strive to provide high-quality modules and components at a reasonable price.', 'We currently supply Arduinos, Raspberry Pis, Orange Pis, Micro:bits, NodeMCUs, Atmel & Microchip microcontrollers, ICs & other passive components, Creality 3D Printers & filaments, Pneumatic parts, CNC accessories, Inverters, Battery chargers, Multimeters, Ronix Tools, etc...', 'We were the first to introduce Arduino development boards and modules to Sri Lanka way back in 2011 under the company named Lankatronics (Pvt) Ltd., which later evolved into TRONIC.LK.', 'Today, TRONIC.LK is one of the leading electronic stores in Sri Lanka.', 'In our clientele, we have all the leading universities, technology institutes, R&D companies, Military, Garments, etc...', \"Mission: Introduce High Quality Components to Local Market Vision: Become the Market Leader in High Quality Component Sourcing\\n\\nContact us Electronic Shop - Kohuwala, Nugegoda TRONIC.LK 8, 1/1, Sunethradevi Road, Kohuwala Google Map Link Open on all 7 days from 9:00AM to 7:00PM (Except Poya Days & Mercantile Holidays) Product availability check: check@tronic.lk NOTE: Please kindly don't call the phone lines to check item availability or pricing.\", 'Instead, please send an email to check@tronic.lk and expect a reply shortly with details.', \"General Inquiries: 0777 854444 / 0114 544566 (Tel / WhatsApp) Online Store Open on Monday to Saturday from 9:00AM to 6:00PM (Except Poya Days & Mercantile Holidays) Product availability check: check@tronic.lk General Inquiries: info@tronic.lk Sales Inquiries: sales@tronic.lk Order Inquiries: 0112 199744 / 076 4485607 (Tel / WhatsApp) Special Orders Division\\n\\nIf the item(s) (components or modules) you need isn't listed, we can try to supply that for you.\", 'You need to send us an email to orders@tronic.lk which includes your contact details such as name & phone number and details of your item(s) including links to websites.', 'Tech Support We only provide technical support via our Support Ticket System.', 'Please read the FAQ and Warranty pages for the details you need to send to us.', 'Send your inquiry to support@tronic.lk email address.', 'Corporate Division All corporate sales are handled by Lankatronics (Pvt) Ltd.', 'Email: corp@lankatronics.lk Hotline: 077 5678 000 (Tel & WhatsApp) Tel: 0112 199755 R&D Division All R&D work are handled by Tesla Robotics (Pvt) Ltd.', 'For Laser Cutting, 3D Printing, PCB & Electronic Designing: projects@tesla.lk Hotline: 077 47 57 677 (Tel & WhatsApp) Landline: 0112 727321 For Complains We take customer satisfaction seriously and are glad to hear from you.', 'We always appreciate your feedback which allow us to resolve any problems that occur and help us to improve our services.', 'Please email your inquiry or complain directly to the management via complains@tronic.lk.', 'Delivery DELIVERY VIA COURIER SERVICE We deliver items island-wide via a courier service.', 'The courier service charges Rs. 480 for the first kilogram and Rs. 150 for each additional kilogram.', 'Even though they mostly deliver packages in the following day, their guarantee is to deliver within 1 to 4 working days.', 'Every parcel we send via the courier service carries a tracking number where you can find the location of the package by calling the courier service (to the branch closer to your location).', 'More than 97% of the parcels we send are less than 1kg.', 'When you place your order, you’ll see the courier charge for 1kg and we will manually adjust the courier charge if the weight is more than 1kg later on.', \"After you submit your order by selecting Bank-in option, we'll prepare your order.\", \"If you've placed your order before 1:00PM in a working day, we will prepare it on the same day.\", 'If you have placed your order after 1:00PM, it will most probably be prepared on the next day.', 'As soon as your order is ready, we will ask you to pay by sending the payment email followed by a phone call.', 'See Payment Options menu for payment types supported by us.', 'When you make the payment, please mention the last 4 digits of the order number as the payment reference.', 'After you make the payment, please reply to the email as paid.', 'Do not make your payment to our bank until you receive the payment email with payment details.', 'Example 1: If the weight of your parcel is 7.8kg, this how we calculate the courier charge.', 'Up to 1st kilogram: Rs. 480.00 Additional weight: 6.8kg, this is rounded up to the ceiling which is 7kg Charge for additional weight: Rs. 150.00 x 7 = Rs. 1,050.00 Total courier charge: Rs. 1,530.00 Example 2: If the weight of your parcel is 60g, this how we calculate the courier charge.', 'Up to 1st kilogram: Rs. 480.00 Total courier charge: Rs. 480.00\\n\\nIf you have any question regarding delivery via courier service, please contact us via info@tronic.lk or Phone/Whatsapp 076 4485607 / 011 2 199744.', 'QUICK DELIVERY (PICKME FLASH / UBER PACKAGE) If you need our products delivered quickly and you are in Colombo district, you can use Uber / Pickme Flash motorbike/three-wheeler Delivery service.', 'It not only saves cost, but also saves time.', 'Delivery via motorbikes are bit cheaper than three-wheelers, so unless motorbikes are not available, don’t select three-wheelers.', 'You will be able to collect your order in a short period of time (mostly within an hour) and you can track the driver in your Uber / Pickme app.', 'Here is how you could do that.', 'First, you need to place an online order by entering “Uber / Pickme collection” in the comments box which appears at the end of the ordering process.', 'One of our staff members will prepare your order, remove courier charge and send you bank details via email.', 'You need to do the payment only for the items (mention the last 4 digits of the order number as the bank reference), reply to the email with a payment proof and open Uber / Pickme app in your mobile phone and place a collection request.', 'You need to set source location as TRONIC.LK, Nugegoda and contact telephone number as 076 4485607 / 0112 199744.', 'Set destination as your collection point and then compare the charges for motorbikes and three-wheelers.', 'When you confirm the delivery, we will receive an SMS containing contact details of the driver / vehicle and we will only hand over the parcel to the exact driver and vehicle.', 'That’s all.', 'You will get your order in a very short period of time.', 'STORE PICKUP If you mention \"Store Pickup\" in the comment section of your order, then you can collect the items over the counter from our shop.', 'Payment Options Here are the payment options we offer.', 'We prefer bank transfers to all other options.', \"The main reason is, it doesn't involve any unnecessary 3rd party service charge.\", 'All the banks in Sri Lanka have online banking facilities such as Sampath Vishwa, ComBank Digital, etc...', 'We highly recommend you to create an online banking account where you can transfer money to any bank account at any time.', 'No payment processing charge applied.', 'If you are having a smart phone, you may download Frimi app made by Nations Trust Bank (NTB).', 'They will ask for your NIC, live photo, etc...', 'and then allow you to link your bank accounts, debit cards, etc...', \"You don't need to have a NTB bank account to do that.\", 'Once you have Frimi running, you can transfer money to almost any bank account.', 'No payment processing charge applied.', 'If you are having a smart phone running a QR payment app such as Frimi, Q+, WePay, SOLO, etc..., we can send you our Frimi Merchant QR code to do the payment.', 'Make sure to mention as \"Frimi QR\" in the comment box which appears at the order submission stage.', 'A payment processing fee of 0.5% will be applied (charged by Frimi).', 'If any of the above options don\\'t work for you and you would like to pay with credit card or debit card or any other payment option listed below (Excluding American Express, Diners club, Discover), then mention as \"PayHere\" in the comment box which appears at the order submission stage.', 'We will send you an online invoice via PayHere.', 'A payment processing fee of 2.99% (as of 30/03/2022) will be applied (charged by PayHere).', 'Easy Installment Payments - This is a set of new Easy Installment Plans introduced by PayHere.', \"If you want to buy some items and you don't have enough funds to afford, you can request us to send you an online payment request via PayHere which has several Easy Payment options.\", 'However these plans change from time to time and only become visible in PayHere online payment menu.', 'Note that the 2.99% payment processing fee will still be charged as mentioned in (4) above.', 'If you have any question regarding payment methods and processing fees, please feel free to contact us via info@tronic.lk or Phone/Whatsapp 076 4485607 / 0112 199744.', 'Returns We reserve the right to accept or reject return or exchange requests other than Warranty Claims.', 'The main reason to limit return/exchange requests is to minimise checking time spend by our sales and engineering team.', 'If you make a return/exchange request and the item is in unopened, sealed and unused condition, we might decide to accept the return/exchange request within the first 7 days of the purchase.', 'Then our sales and engineering team will check it against issues.', 'Depending on the complexity of the testing, our engineering team may opt to charge the customer.', 'If found to be in order, we will continue the refund / exchange procedure.', 'Our sales and engineering team will take up to 7 days to check the items and inform the status to the customer.', 'Shop Purchase If you have purchased the item from our outlet, please visit the same along with the bill and item(s) to be exchanged.', 'We will accept your contact details along with the return items.', 'We will contact you within 7 days to inform the status.', 'Online Purchase You need to first send an email to info@tronic.lk by mentioning your contact details, bill date/number and list of items to be returned.', 'If we ask you to send the items to our office, then you need to carefully pack the items with enough safe materials and send via a courier service to reach our office (address can be seen at the bottom of the contact us page).', 'We will check and let you know the status of the items.', 'You can discuss with us whether to receive a refund or buy different items.', 'Services As most of you know, TRONIC.LK is running by set of engineers who have years of experience in handling both foreign and local research and development projects.', 'To engage more in to development of our country, we have decided to share some of our resources with technology community.', 'We will try our best to maintain the lowest cost to make sure everyone can engage in producing something exportable than relying on imported low quality products.', 'We will start with sharing our 3D printers and CNC PCB Engraver for prototyping purposes at a reasonable cost.', 'We will release more resources in the near future.', 'We will also takeover limited mass-production orders for moulding and PCB production in collaboration with our Chinese business partners.', 'Please note, we will only do initial communication via email.', 'Send your inquiry to projects@lankatronics.lk with your contact details (name, phone number, company, etc...) and a detailed description of your project plan, documents, etc...', 'By making sure your privacy is guaranteed with us, we will start communication with you.', '3D Designing We have an expert in-house engineer who is responsible for 3D modeling and designing work for the company.', 'If you have an idea to make something like an enclosure for your electronic product, we can design a beautiful enclosure for you that matches your prototyping and mass- production budget.', 'Send an email to projects@lankatronics.lk with you requirement.', '3D Printing We have an expert in-house engineer who is the head of projects responsible for 3D Printing.', 'He is already a popular figure among Sri Lankan 3D Printing community.', 'We have tuned our 3D printers to output better quality prints in nearly 3 times the speed of a normal 3D printer.', 'Send your STL file attached to projects@lankatronics.lk to get a quotation.', 'Plastic Injection Moulding\\n\\nIf you need to mould your enclosure or any other part using plastic injection moulding, we can do that via our collaboration with a Chinese factory.', 'Minimum order quantity is 1000pcs.', 'Please send your STL files to projects@lankatronics.lk for pricing.', 'PCB Designing We have an expert in-house engineer who is capable of PCB designing for the company.', 'If you have a product idea to make an electronic device such as an IoT device, please send your details and a brief description about your idea to projects@lankatronics.lk.', 'PCB Engraving (Single layer) If your PCB design is around 10cmx 10cm in size, our PCB Engraver can make a nice prototype for you.', 'Please send Gerber files to projects@lankatronics.lk.', 'We will communicate with you for adjustments based on our machine capabilities.', 'PCB Etching (Single layer and double layer) If your PCB design is around 12cmx 12cm in size, we can etch your board for prototyping purposes such as for university projects.', 'Please send Gerber files to projects@lankatronics.lk.', 'We will communicate with you for adjustments based on our machine capabilities.', 'PCB Production If you have an idea to produce PCBs in batches (mass-production) with highest quality, we can do that for you via our collaboration with a Chinese factory.', 'You can send PCB size, number of layers, thickness and PCB colour (or any other special detail) along with your details to projects@lankatronics.lk to get a quotation from us.', 'If you need us to check your PCB for quality or do minor adjustments (for example component replacement due to a being obsolete) we can do that for you at a reasonable cost.', 'Firmware (Embedded Systems, IoT products) We have a team of experienced firmware engineers who are currently engaged in firmware development.', 'If you need to get your firmware made in production quality, send in your inquiry to projects@lankatronics.lk with details.', 'NOTE: There are several undergrads, inexperienced grads and technicians whom we know mostly via TRONIC.LK doing firmware development.', 'If you are looking for a firmware for a low cost prototype or one time production, we can introduce one of them to you with no guarantee on outcome.', 'Idea to Production Our vision is to become a resource provider to make your product dreams come true which in turn will help up to some extent to make Sri Lanka a production country than a country of junk imports.', 'We already aware of very talented engineers around the country who can surely do an impact for this purpose.', 'We will do our best to make things happen.', 'Testing As technology enthusiasts ourselves, we would always like to test the modules and sensors we sell.', 'We usually do random testing of the modules and sensors we sell to understand the capabilities of those.', 'Some of customers want us to do testing of the modules they buy for many reasons.', 'One of the popular reasons is to get those tested by safe hands so they have no risk.', 'We always accept such requests at a reasonable cost.', 'The first thing you need to do is, submit a test request to projects@lankatronics.lk.', 'Then we will ask you to hand over materials we need to perform the test including the modules, sensors and development boards in brand new condition along with the cost involved.', 'The cost must always be paid beforehand.', 'Once we receive the payment along with the requested items, our engineering team will perform the test and submit a test report to you including photos, videos, connection diagrams and source codes.', 'What if we found a module or sensor sold by us is malfunctioning?', 'In this case, we will replace those free of charge and finally give you a fully working system.', 'What if we found a module or sensor sold by a 3rd party is malfunctioning?', 'In this case, you need to supply us the replacement within 2 days, so our engineering team can proceed with the test.', 'If you have further questions, feel free to contact us via projects@lankatronics.lk.', 'Tracking To track your parcel, please visit the tracking page of Prompt Xpress courier service below and enter the provided tracking number by us.', 'https://promptxpress.lk/TrackItem.aspx Please note that the tracking number will be sent via email on the next weekday before 11:00AM after we handover the package to courier service.', 'Weekday are working days from Monday to Friday\\n\\nWarranty We provide warranty for some of the products we sell as below only against manufacturing defects.', 'Electronic modules: 6 Months Warranty Electronic Tools: 6 Months Warranty 3D Printers: 1 Year Warranty (except physical damages due to misuse, high voltages, etc...) Passive components such as ICs, Transistors, FETs, Triacs, Diacs, Diodes, Inductors, Capacitors, Resistors, Bridge rectifiers, Fuses, etc...', 'are not covered with warranty.', 'As per the norms in the technology industry, warranty will be void under certain circumstances mentioned below in this document under Warranty Terms & Conditions.', 'For example, devices such as Raspberry Pi and NodeMCU (ESP8266, ESP32) have all the GPIO pins at 3.3V TTL level.', 'If you connect an Arduino module with 5V TTL level without properly using level shifters / level convertors or at least dividers, that will easily burn the development board voiding warranty.', 'How to claim warranty?', \"First you need to send an email mentioning/attaching all of the following details to support@tronic.lk Receipt number OR Online Order Reference of the TRONIC.LK Purchase Your wiring diagram A photo taken from top showing the way you have connected wires A clear photo of the item (both sides) showing the physical appearance of it (It must be in the same condition at the time you bought it from us) The voltage you've given to the module Explain the problem you see with the module Once all the above information is supplied and we can't see any issue to help you with, we will ask you to hand over the item to our shop in Kohuwala.\", 'You may also send the item to us via\\n\\nRegistered Post or a courier service.', 'In that case, you need to properly pack the module, include a note with your name, phone number, email address and bill number, pay all the relevant handling charges and send the module to us.', 'We do not pay for parcels coming to our office for warranty claims.', 'Our qualified engineering team will schedule a time, perform an investigation and contact you with their findings.', 'This process will take up to 10 working days excluding weekends, mercantile holidays and travel restriction times.', 'Some of the frequently asked questions are answered below.', 'Where should I handover the defective item(s) for inspection?', 'To TRONIC.LK in Kohuwala.', \"If I can't come, shall I send the defective item(s) via Registered Post or via a courier service and should I pay the delivery fee?\", 'Yes, you can safely pack the items and send to us by paying all the fees involved.', 'We will not be paying to any courier service to collect parcels.', 'Our office address is given below.', 'Sigma Electronics (Pvt) Ltd.', '8, 1/2, Sunethradevi Road, Kohuwala.', \"Tel: 076 8544607 / 0112 199744 If I can't come, can you send the replacement item(s) or working item(s) via a courier service and should I pay for the courier company?\", 'Yes, TRONIC.LK can send the item(s) via courier service and you need to pay the courier fee.', 'What happens if TRONIC.LK finds the item working?', 'TRONIC.LK will send you a video as a proof and you have to pay for the time involved in testing.', 'Current fee as of 01/01/2024 is Rs. 1,000 per hour.', 'What happens if we find you have burned it due to misuse?', 'If the module is burned due to misconnection, firmware update or any other user activity, we will give you a report on that and you have to pay for the time involved in testing.', 'Current fee as of 01/01/2024 is Rs. 1,000 per hour.', 'What happens if we find a manufacturing defect?', 'There are two options for you.', 'One is to request a refund and the other is to request a replacement.', \"See (3) if you can't come to collect the replacement.\", 'What happens if I neglect to pay the expenses?', 'To avoid further losses, TRONIC.LK will remove you from the system and stop further interactions Why does TRONIC.LK charge for technical support?', 'You need to pay for the time spent on your work by our technical staff.', 'WARRANTY TERMS & CONDITIONS Warranty will be void if one or many of the following conditions have met.', 'Burn marks caused by short circuitry Mechanical damage during transportation of defective unit Any modification applied to the unit which was not performed by authorized personnel\\n\\nInappropriate installation or commissioning Negligence or inappropriate use of the product External event (overvoltage, failure of other components in the installation causing our unit to fail, etc.) Non observance of documentation, including preventative maintenance Force majeure, including but not restricted to lightning, power surges, natural disasters, and fires Returned unit shows no fault after analysis Improper or no application of safety regulations Utilization in combination with equipment, items or materials not permitted by documentation SPECIAL WARRANTY TERMS & CONDITIONS (PRODUCT WISE).', 'Inverters As per the conditions (4), (5), (6), (9) above, make sure not to connect grid power to the output of the Inverter which will damage it permanently As per condition (10) above, make sure to use proper batteries with correct voltage.', 'Do not use damaged or substandard batteries As per the condition (10) above, do not exceed the half (1/2) of the marked output peak wattage.', 'For example, if you use a 5kW inverter, the maximum you can use continuously is 2.5kW.', 'Exceeding this will make the inverter to heat up and damage the components inside.', \"As per condition (2) above, if you don't know the subject properly, always get the installation done by a qualified technician.\", 'Battery Chargers Make sure to disconnect batteries from any output source when you connect the battery charger If the battery is too weak (end of life), do not use the battery charger to continuously charge the battery.', 'Life time for a standard lead-acid battery is 3 years maximum\\n\\nAfter charging, make sure to remove the probes of the charger from batteries before connecting batteries to the output source (such as inverter).', 'WhatsApp Order If you only have less than 5 items to buy and you find it difficult or time consuming to order via out website, now you can order via WhatsApp.', 'All you have to do is, find the items you need and send us a WhatsApp message to 076 4485607 with items codes or photos with quantities.', 'One of our sales staff will send you the links to our products where you can confirm.', \"You'll then be asked for details such as payment mode, delivery method, etc...\", 'and we will prepare your parcel as quickly as possible.', 'Ordering Procedure 1.', 'Send us a list of items (up to 5 items only) 2.', 'We will send you codes, photos and item links to identify what you need 3.', 'We will ask order details such as delivery method STAFF: We check whether all the items are available 4.', 'We will send details for you to do the payment 5.', 'We will confirm the reception of your payment STAFF: We prepare your order 6.', 'You will receive dispatch details such tracking number, ask to arrange a Pickme or ask to come and collect the items']\n"
     ]
    }
   ],
   "source": [
    "sentences = re.split(r'(?<!\\w\\.\\w.)(?<![A-Z][a-z]\\.)(?<=\\.|\\?)\\s+', document.text.strip())\n",
    "print(sentences)"
   ]
  },
  {
   "cell_type": "code",
   "execution_count": 54,
   "metadata": {},
   "outputs": [],
   "source": [
    "def custom_sentence_splitter(text):\n",
    "    # Apply the regex pattern to split sentences\n",
    "    sentences = re.split(r\"(?<!\\w\\.\\w.)(?<![A-Z][a-z]\\.)(?<=\\.|\\?)\\s+\", text)\n",
    "    return sentences\n",
    "\n",
    "node_parser = SentenceWindowNodeParser.from_defaults(\n",
    "    # to split the sentences us a custom splitter\n",
    "    sentence_splitter=custom_sentence_splitter,\n",
    "    # how many sentences on either side to capture\n",
    "    window_size=3,\n",
    "    # the metadata key that holds the window of surrounding sentences\n",
    "    window_metadata_key=\"window\",\n",
    "    # the metadata key that holds the original sentence\n",
    "    original_text_metadata_key=\"original_sentence\",\n",
    ")"
   ]
  },
  {
   "cell_type": "code",
   "execution_count": null,
   "metadata": {},
   "outputs": [
    {
     "name": "stdout",
     "output_type": "stream",
     "text": [
      "About Us TRONIC.LK is an electronic component and module sourcing company under Sigma Electronics (Pvt) Ltd.\n",
      "{'original_sentence': 'About Us TRONIC.LK is an electronic component and '\n",
      "                      'module sourcing company under Sigma Electronics (Pvt) '\n",
      "                      'Ltd.',\n",
      " 'window': 'About Us TRONIC.LK is an electronic component and module sourcing '\n",
      "           'company under Sigma Electronics (Pvt) Ltd. We supply high quality '\n",
      "           'electronic components, modules and tools manufactured in China, '\n",
      "           'Taiwan, Hong Kong, Japan, USA, Italy, England, Germany and '\n",
      "           'Australia. Being electronic hobbyists, we strive to provide '\n",
      "           'high-quality modules and components at a reasonable price. We '\n",
      "           'currently supply Arduinos, Raspberry Pis, Orange Pis, Micro:bits, '\n",
      "           'NodeMCUs, Atmel & Microchip microcontrollers, ICs & other passive '\n",
      "           'components, Creality 3D Printers & filaments, Pneumatic parts, CNC '\n",
      "           'accessories, Inverters, Battery chargers, Multimeters, Ronix '\n",
      "           'Tools, etc...'}\n",
      "We supply high quality electronic components, modules and tools manufactured in China, Taiwan, Hong Kong, Japan, USA, Italy, England, Germany and Australia.\n",
      "{'original_sentence': 'We supply high quality electronic components, modules '\n",
      "                      'and tools manufactured in China, Taiwan, Hong Kong, '\n",
      "                      'Japan, USA, Italy, England, Germany and Australia.',\n",
      " 'window': 'About Us TRONIC.LK is an electronic component and module sourcing '\n",
      "           'company under Sigma Electronics (Pvt) Ltd. We supply high quality '\n",
      "           'electronic components, modules and tools manufactured in China, '\n",
      "           'Taiwan, Hong Kong, Japan, USA, Italy, England, Germany and '\n",
      "           'Australia. Being electronic hobbyists, we strive to provide '\n",
      "           'high-quality modules and components at a reasonable price. We '\n",
      "           'currently supply Arduinos, Raspberry Pis, Orange Pis, Micro:bits, '\n",
      "           'NodeMCUs, Atmel & Microchip microcontrollers, ICs & other passive '\n",
      "           'components, Creality 3D Printers & filaments, Pneumatic parts, CNC '\n",
      "           'accessories, Inverters, Battery chargers, Multimeters, Ronix '\n",
      "           'Tools, etc... We were the first to introduce Arduino development '\n",
      "           'boards and modules to Sri Lanka way back in 2011 under the company '\n",
      "           'named Lankatronics (Pvt) Ltd., which later evolved into TRONIC.LK.'}\n"
     ]
    }
   ],
   "source": [
    "# from the whole document with all details of the company\n",
    "nodes = node_parser.get_nodes_from_documents([document])\n",
    "for node in nodes[:2]:\n",
    "    print(node.metadata['original_sentence'], sep='/n')\n",
    "    pprint(node.metadata) "
   ]
  },
  {
   "cell_type": "code",
   "execution_count": null,
   "metadata": {},
   "outputs": [],
   "source": [
    "# index the database base on the sentence and store in vector store\n",
    "sentence_index = VectorStoreIndex(nodes,embed_model=ollama_embedding)"
   ]
  },
  {
   "cell_type": "code",
   "execution_count": null,
   "metadata": {},
   "outputs": [],
   "source": [
    "# index the documents based on the document and sentence splitting\n",
    "# if the current ./sentence_index is already created no need to again create the indexes\n",
    "if not os.path.exists(\"./sentence_index\"):\n",
    "    sentence_index = VectorStoreIndex.from_documents(\n",
    "        [document],\n",
    "        node_parser=node_parser,\n",
    "        embed_model=ollama_embedding\n",
    "    )\n",
    "\n",
    "    sentence_index.storage_context.persist(persist_dir=\"./sentence_index\")\n",
    "else:\n",
    "    sentence_index = load_index_from_storage(\n",
    "        StorageContext.from_defaults(persist_dir=\"./sentence_index\"),\n",
    "        service_context=sentence_context\n",
    "    )"
   ]
  },
  {
   "cell_type": "code",
   "execution_count": null,
   "metadata": {},
   "outputs": [
    {
     "name": "stdout",
     "output_type": "stream",
     "text": [
      "<think>\n",
      "Okay, so I need to figure out how to contact TRONIC.LK based on the provided context. Let me go through each section of the context step by step.\n",
      "\n",
      "First, looking at the \"Contact Us\" section, it mentions that we can prepare your order and receive bank details via email. The email address is info@tronic.lk. So, if someone wants to contact us directly, they should send an email to this address.\n",
      "\n",
      "Next, in the \"Payment Options\" section, there are several methods mentioned for payment processing. These include using a Frimi app, PayHere, or other credit card/debit card options. Each of these has its own fee structure, but the main point is that customers can choose how they pay, which might be helpful if someone wants to make a purchase and isn't sure about their payment method.\n",
      "\n",
      "The \"Returns\" section states that we'll accept returns unless there are issues like unopened packages or sealed items. The customer gets notified within 7 days, so if someone needs to return an item, they can do so by visiting the same location as receiving it.\n",
      "\n",
      "In the \"Services\" section, TRONIC.LK is mentioned for sharing their resources with the tech community, starting with 3D printers and CNC PCB engravers. This suggests that they might have a dedicated contact person or team for these services, but since the context doesn't specify how to reach them directly, I'll focus on other sections.\n",
      "\n",
      "Looking back at \"Contact Us,\" it also mentions that if someone places an order before 1:00 PM, we prepare it on the same day. If after 1:00 PM, it goes to the next day. So, for someone ordering around 2 PM, they'd receive their order the next day.\n",
      "\n",
      "The \"Payment Options\" section also mentions that once you place an order via the online process, we'll send your bank details. This is useful if someone wants to pay upfront without waiting for a physical receipt.\n",
      "\n",
      "In the \"Returns\" section, it's important to note that we don't accept warranty claims except for specific issues like unopened packages or sealed items. So, if someone has an issue with their package, they can file a claim through the contact details mentioned there.\n",
      "\n",
      "Putting this all together, the main ways to contact TRONIC.LK are:\n",
      "\n",
      "1. Email: info@tronic.lk\n",
      "2. Phone: 076 4485607 / 011 2 199744\n",
      "3. Online Purchase: Send an email with your order details and list of items to return.\n",
      "4. Visit the store or our office for in-store pickup.\n",
      "\n",
      "I should make sure not to mention any prior knowledge, so I'll stick strictly to the context provided without adding anything extra.\n",
      "</think>\n",
      "\n",
      "To contact TRONIC.LK, you can use the following methods:\n",
      "\n",
      "1. **Email**: Send an email to `info@tronic.lk` to initiate your order or payment process.\n",
      "\n",
      "2. **Phone**: Call us at 076 4485607 / 011 2 199744 for any inquiries or actions you wish to take.\n",
      "\n",
      "3. **Online Purchase**: Visit our website and send an email with your order details, bill date, and list of items to return. We will process the return within 7 days.\n",
      "\n",
      "These methods allow customers to reach us efficiently through various channels.\n"
     ]
    }
   ],
   "source": [
    "# simple query engine to retrieve the most relevant context to the given question\n",
    "query_engine = sentence_index.as_query_engine(\n",
    "    # query engine use the llm as deepseek previous mentioned model\n",
    "    llm=llm,\n",
    "    # only get the most relevant\n",
    "    similarity_top_k=2,\n",
    "    # the target key defaults to `window` to match the node_parser's default\n",
    "    # node parser has the window key in metadata that with the sentence with surrounding context\n",
    "    node_postprocessors=[\n",
    "        MetadataReplacementPostProcessor(target_metadata_key=\"window\")\n",
    "    ],\n",
    ")\n",
    "\n",
    "# query function get the llm and the retrieve sentence window \n",
    "window_response = query_engine.query(\n",
    "    \"How to contact them?\"\n",
    ")\n",
    "print(window_response)"
   ]
  },
  {
   "cell_type": "markdown",
   "metadata": {},
   "source": [
    "### Do the evaluation based on experimental setup\n",
    "\n",
    "model:\"deepseek-r1:1.5b\"\n",
    "\n",
    "window_size:3\n",
    "\n",
    "sentence_window_retrieval"
   ]
  },
  {
   "cell_type": "code",
   "execution_count": null,
   "metadata": {},
   "outputs": [],
   "source": []
  }
 ],
 "metadata": {
  "kernelspec": {
   "display_name": "torchenv",
   "language": "python",
   "name": "python3"
  },
  "language_info": {
   "codemirror_mode": {
    "name": "ipython",
    "version": 3
   },
   "file_extension": ".py",
   "mimetype": "text/x-python",
   "name": "python",
   "nbconvert_exporter": "python",
   "pygments_lexer": "ipython3",
   "version": "3.12.3"
  }
 },
 "nbformat": 4,
 "nbformat_minor": 2
}
